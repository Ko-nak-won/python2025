{
 "cells": [
  {
   "cell_type": "code",
   "execution_count": 2,
   "id": "5f3b3b6e",
   "metadata": {},
   "outputs": [],
   "source": [
    "import numpy as np\n"
   ]
  },
  {
   "cell_type": "code",
   "execution_count": 7,
   "id": "02d00388",
   "metadata": {},
   "outputs": [
    {
     "name": "stdout",
     "output_type": "stream",
     "text": [
      "[1 2 3]\n",
      "[[1 2 5]\n",
      " [3 6 9]]\n",
      "<class 'numpy.ndarray'>\n",
      "<class 'numpy.ndarray'>\n"
     ]
    }
   ],
   "source": [
    "x1 = np.array([1,2,3])\n",
    "\n",
    "y2 = np.array([[1,2,5],\n",
    "              [3,6,9]])\n",
    "\n",
    "print(x1)\n",
    "print(y2)\n",
    "print(type(x1))\n",
    "print(type(y2))"
   ]
  },
  {
   "cell_type": "markdown",
   "id": "9c6c0b1f",
   "metadata": {},
   "source": [
    "### np.eye로 생성하기\n",
    "\n",
    "- N차 단위행렬(대각선의 원소가 모두 1이며 나머지 원소는 모두 0인 정사각 행렬) 생성"
   ]
  },
  {
   "cell_type": "code",
   "execution_count": 4,
   "id": "55d52516",
   "metadata": {},
   "outputs": [
    {
     "data": {
      "text/plain": [
       "array([[1., 0., 0., 0., 0.],\n",
       "       [0., 1., 0., 0., 0.],\n",
       "       [0., 0., 1., 0., 0.],\n",
       "       [0., 0., 0., 1., 0.],\n",
       "       [0., 0., 0., 0., 1.]])"
      ]
     },
     "execution_count": 4,
     "metadata": {},
     "output_type": "execute_result"
    }
   ],
   "source": [
    "np.eye(5)"
   ]
  },
  {
   "cell_type": "markdown",
   "id": "be16409d",
   "metadata": {},
   "source": [
    "### np.linspace 로 생성하기 (linear space)"
   ]
  },
  {
   "cell_type": "code",
   "execution_count": 6,
   "id": "55cff2a1",
   "metadata": {},
   "outputs": [
    {
     "data": {
      "text/plain": [
       "array([ 1. ,  5.5, 10. ])"
      ]
     },
     "execution_count": 6,
     "metadata": {},
     "output_type": "execute_result"
    }
   ],
   "source": [
    "# 1과 10을 포함 숫자 3개가 오도록 하는데 원소간의 차가 동일하도록 행렬 만들기\n",
    "\n",
    "np.linspace(1, 10, 3)"
   ]
  },
  {
   "cell_type": "code",
   "execution_count": null,
   "id": "120cde8d",
   "metadata": {},
   "outputs": [
    {
     "data": {
      "text/plain": [
       "array([ 1.,  4.,  7., 10.])"
      ]
     },
     "execution_count": 7,
     "metadata": {},
     "output_type": "execute_result"
    }
   ],
   "source": [
    "# 1과 10을 포함 숫자 4개가 오도록 하는데 원소간의 차가 동일하도록 행렬 만들기\n",
    "\n",
    "np.linspace(1, 10, 4)\n"
   ]
  },
  {
   "cell_type": "code",
   "execution_count": 8,
   "id": "37622f95",
   "metadata": {},
   "outputs": [
    {
     "data": {
      "text/plain": [
       "array([ 1.  ,  3.25,  5.5 ,  7.75, 10.  ])"
      ]
     },
     "execution_count": 8,
     "metadata": {},
     "output_type": "execute_result"
    }
   ],
   "source": [
    "# 1과 10을 포함해서 숫자 5개가 오도록 하는데 원소간의 차가 동일하도록 행렬 만들기\n",
    "np.linspace(1, 10, 5)"
   ]
  },
  {
   "cell_type": "markdown",
   "id": "28c7210d",
   "metadata": {},
   "source": [
    "### reshape 함수\n",
    "\n",
    "- ndarray 행렬을 다른 차원으로 바꾸는데 사용"
   ]
  },
  {
   "cell_type": "code",
   "execution_count": 9,
   "id": "7075b401",
   "metadata": {},
   "outputs": [
    {
     "name": "stdout",
     "output_type": "stream",
     "text": [
      "[ 1  2  3  4  5  6  7  8  9 10 11 12 13 14 15]\n"
     ]
    },
    {
     "data": {
      "text/plain": [
       "array([[ 1,  2,  3,  4,  5],\n",
       "       [ 6,  7,  8,  9, 10],\n",
       "       [11, 12, 13, 14, 15]])"
      ]
     },
     "execution_count": 9,
     "metadata": {},
     "output_type": "execute_result"
    }
   ],
   "source": [
    "x = np.arange(1, 16)\n",
    "print(x)\n",
    "\n",
    "x.shape\n",
    "\n",
    "x.reshape(3, 5) # 1차원 이었던 ndarray를 2차원(3행 5열)로 바꿔줌"
   ]
  },
  {
   "cell_type": "code",
   "execution_count": null,
   "id": "c1f04bee",
   "metadata": {},
   "outputs": [],
   "source": []
  }
 ],
 "metadata": {
  "kernelspec": {
   "display_name": "Python 3",
   "language": "python",
   "name": "python3"
  },
  "language_info": {
   "codemirror_mode": {
    "name": "ipython",
    "version": 3
   },
   "file_extension": ".py",
   "mimetype": "text/x-python",
   "name": "python",
   "nbconvert_exporter": "python",
   "pygments_lexer": "ipython3",
   "version": "3.8.10"
  }
 },
 "nbformat": 4,
 "nbformat_minor": 5
}
