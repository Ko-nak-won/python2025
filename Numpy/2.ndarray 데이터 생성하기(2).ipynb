{
 "cells": [
  {
   "cell_type": "markdown",
   "metadata": {},
   "source": [
    "# ndarray 데이터 생성하기(2)"
   ]
  },
  {
   "cell_type": "code",
   "execution_count": 1,
   "metadata": {},
   "outputs": [],
   "source": [
    "import numpy as np"
   ]
  },
  {
   "cell_type": "markdown",
   "metadata": {},
   "source": [
    "#### random 서브모듈의 함수를 사용해 ndarray 를 생성할 수 있습니다"
   ]
  },
  {
   "cell_type": "markdown",
   "metadata": {},
   "source": [
    "#### rand 함수\n",
    " - 0, 1사이의 분포에서 랜덤한 ndarray 생성"
   ]
  },
  {
   "cell_type": "code",
   "execution_count": 2,
   "metadata": {},
   "outputs": [
    {
     "data": {
      "text/plain": [
       "array([[0.29609691, 0.53220588, 0.90303203],\n",
       "       [0.71183693, 0.13259454, 0.48927199]])"
      ]
     },
     "execution_count": 2,
     "metadata": {},
     "output_type": "execute_result"
    }
   ],
   "source": [
    "# 2행 3열의 랜덤한 값을 생성, 랜덤한 값의 분포는 0과 1사이. \n",
    "np.random.rand(2, 3)"
   ]
  },
  {
   "cell_type": "code",
   "execution_count": 3,
   "metadata": {},
   "outputs": [
    {
     "data": {
      "text/plain": [
       "array([0.64842591, 0.78767385])"
      ]
     },
     "execution_count": 3,
     "metadata": {},
     "output_type": "execute_result"
    }
   ],
   "source": [
    "np.random.rand(2)  # 크기가 2인 1차원 벡터, 랜덤한 값의 분포는 0과 1사이."
   ]
  },
  {
   "cell_type": "code",
   "execution_count": 4,
   "metadata": {},
   "outputs": [
    {
     "data": {
      "text/plain": [
       "array([0.76500366, 0.17387676, 0.35538363, 0.70178552, 0.41401765,\n",
       "       0.9256151 , 0.12755044, 0.26486227, 0.27640266, 0.62823426])"
      ]
     },
     "execution_count": 4,
     "metadata": {},
     "output_type": "execute_result"
    }
   ],
   "source": [
    "np.random.rand(10)  # 크기가 10인 1차원 벡터, 랜덤한 값의 분포는 0과 1사이."
   ]
  },
  {
   "cell_type": "code",
   "execution_count": 5,
   "metadata": {},
   "outputs": [
    {
     "data": {
      "text/plain": [
       "array([[[0.47729473, 0.4701221 , 0.41168453],\n",
       "        [0.90973281, 0.65446541, 0.45661372],\n",
       "        [0.42365354, 0.332525  , 0.58099359],\n",
       "        [0.89030785, 0.41623085, 0.49571716],\n",
       "        [0.11684797, 0.36843643, 0.56994214]],\n",
       "\n",
       "       [[0.39258167, 0.55976878, 0.63793758],\n",
       "        [0.52918782, 0.64483529, 0.16516795],\n",
       "        [0.34848322, 0.92282716, 0.54431551],\n",
       "        [0.58120069, 0.41651153, 0.49143757],\n",
       "        [0.9192558 , 0.3063034 , 0.18073361]]])"
      ]
     },
     "execution_count": 5,
     "metadata": {},
     "output_type": "execute_result"
    }
   ],
   "source": [
    "np.random.rand(2, 5, 3)  # 5행 3열 이 2개인 3차원 행렬, 랜덤한 값의 분포는 0과 1사이."
   ]
  },
  {
   "cell_type": "markdown",
   "metadata": {},
   "source": [
    "#### randn함수\n",
    " - n: normal distribution(정규분포)를 의미\n",
    " - 정규분포에서 샘플링된 랜덤 ndarray 생성"
   ]
  },
  {
   "cell_type": "code",
   "execution_count": 6,
   "metadata": {},
   "outputs": [
    {
     "data": {
      "text/plain": [
       "array([[-0.17947536,  0.19881452, -0.08799331,  1.11848513],\n",
       "       [-0.95085451, -1.65421742,  0.46346524,  0.64531416],\n",
       "       [-1.95580063,  0.05985017, -0.00822977,  0.25458364]])"
      ]
     },
     "execution_count": 6,
     "metadata": {},
     "output_type": "execute_result"
    }
   ],
   "source": [
    "# 3행 4열로 정규분포에서 샘플링된 랜덤 값을 생성한다.\n",
    "np.random.randn(3, 4)"
   ]
  },
  {
   "cell_type": "code",
   "execution_count": 7,
   "metadata": {},
   "outputs": [
    {
     "data": {
      "text/plain": [
       "array([[[-1.53053143,  0.5192482 ],\n",
       "        [ 0.71871372,  0.86828887],\n",
       "        [ 0.4550853 ,  1.1025071 ],\n",
       "        [-0.93622344,  0.69902121]],\n",
       "\n",
       "       [[ 2.25453793, -1.94723291],\n",
       "        [ 0.27279593,  0.2456762 ],\n",
       "        [-2.43976796, -0.49799665],\n",
       "        [ 0.74384544,  0.52306956]],\n",
       "\n",
       "       [[-1.29568469, -0.06450334],\n",
       "        [ 0.54156595,  0.82019373],\n",
       "        [-0.93551766,  0.73792024],\n",
       "        [ 1.72697373,  0.74706666]]])"
      ]
     },
     "execution_count": 7,
     "metadata": {},
     "output_type": "execute_result"
    }
   ],
   "source": [
    "# 4행 2열이 3개로 된 정규분포에서 샘플링된 랜덤 값을 생성한다.\n",
    "np.random.randn(3, 4, 2)"
   ]
  },
  {
   "cell_type": "code",
   "execution_count": 9,
   "metadata": {},
   "outputs": [
    {
     "data": {
      "text/plain": [
       "array([2.15520578, 0.68993204, 0.80020831, 1.756975  , 0.38337054])"
      ]
     },
     "execution_count": 9,
     "metadata": {},
     "output_type": "execute_result"
    }
   ],
   "source": [
    "# 1차원 벡터 ,정규분포에서 샘플링된 랜덤 값을 생성한다.\n",
    "np.random.randn(5)"
   ]
  },
  {
   "cell_type": "markdown",
   "metadata": {},
   "source": [
    "#### randint 함수\n",
    " - 특정 범위에 속해있는 정수 중에서 랜덤하게 샘플링"
   ]
  },
  {
   "cell_type": "code",
   "execution_count": 10,
   "metadata": {},
   "outputs": [
    {
     "data": {
      "text/plain": [
       "array([[90, 59, 56, 18, 77],\n",
       "       [ 2, 45, 68, 42, 95],\n",
       "       [96, 68, 76, 94, 21]])"
      ]
     },
     "execution_count": 10,
     "metadata": {},
     "output_type": "execute_result"
    }
   ],
   "source": [
    "# 정수 1 ~ 99 사이에서 3행 5열로 랜덤하게 샘플링해서 생성하라\n",
    "np.random.randint(1, 100, size=(3, 5))"
   ]
  },
  {
   "cell_type": "code",
   "execution_count": 11,
   "metadata": {},
   "outputs": [
    {
     "data": {
      "text/plain": [
       "array([[[36, 15, 86, 57, 11],\n",
       "        [64, 13, 11, 61, 69],\n",
       "        [60, 86, 73, 35, 77]],\n",
       "\n",
       "       [[48, 87, 48, 88, 31],\n",
       "        [50,  7, 63, 33, 30],\n",
       "        [68, 31, 37, 80, 87]]])"
      ]
     },
     "execution_count": 11,
     "metadata": {},
     "output_type": "execute_result"
    }
   ],
   "source": [
    "# 정수 1 ~ 99 사이에서 3행 5열이 2개인 3차원 행렬을 랜덤하게 샘플링해서 생성하라\n",
    "np.random.randint(1, 100, size=(2, 3, 5))"
   ]
  },
  {
   "cell_type": "code",
   "execution_count": 12,
   "metadata": {},
   "outputs": [
    {
     "data": {
      "text/plain": [
       "array([46, 92, 50, 19, 66])"
      ]
     },
     "execution_count": 12,
     "metadata": {},
     "output_type": "execute_result"
    }
   ],
   "source": [
    "# 정수 1 ~ 99 사이에서 크기가 5인 1차원 행렬을 랜덤하게 샘플링해서 생성하라\n",
    "np.random.randint(1, 100, size=(5))"
   ]
  },
  {
   "cell_type": "markdown",
   "metadata": {},
   "source": [
    "#### seed 함수\n",
    " - 누가, 언제하든지 똑같은 난수 생성을 원한다면 시드(seed) 번호를 설정해 주면 됨\n",
    " - 시드(seed) 번호는 0과 같거나 큰 임의의 정수를 넣어 주면 됨\n",
    " - 설정한 시드번호를 다시 실행한 후 다시 난수를 발행하면 예전에 발생했던 난수 순서로 동일하게 발행됨으로 코드의 결과를 그대로 재현 할 수 있음"
   ]
  },
  {
   "cell_type": "code",
   "execution_count": 13,
   "metadata": {},
   "outputs": [],
   "source": [
    "np.random.seed(0) # 시드 설정"
   ]
  },
  {
   "cell_type": "code",
   "execution_count": 14,
   "metadata": {},
   "outputs": [
    {
     "data": {
      "text/plain": [
       "array([0.5488135 , 0.71518937, 0.60276338, 0.54488318, 0.4236548 ])"
      ]
     },
     "execution_count": 14,
     "metadata": {},
     "output_type": "execute_result"
    }
   ],
   "source": [
    "np.random.rand(5)"
   ]
  },
  {
   "cell_type": "code",
   "execution_count": 15,
   "metadata": {},
   "outputs": [
    {
     "data": {
      "text/plain": [
       "array([0.64589411, 0.43758721, 0.891773  , 0.96366276, 0.38344152,\n",
       "       0.79172504, 0.52889492, 0.56804456, 0.92559664, 0.07103606])"
      ]
     },
     "execution_count": 15,
     "metadata": {},
     "output_type": "execute_result"
    }
   ],
   "source": [
    "np.random.rand(10)"
   ]
  },
  {
   "cell_type": "code",
   "execution_count": 16,
   "metadata": {},
   "outputs": [
    {
     "data": {
      "text/plain": [
       "array([0.0871293 , 0.0202184 , 0.83261985, 0.77815675, 0.87001215,\n",
       "       0.97861834, 0.79915856, 0.46147936, 0.78052918, 0.11827443])"
      ]
     },
     "execution_count": 16,
     "metadata": {},
     "output_type": "execute_result"
    }
   ],
   "source": [
    "np.random.rand(10)"
   ]
  },
  {
   "cell_type": "code",
   "execution_count": 17,
   "metadata": {},
   "outputs": [],
   "source": [
    "np.random.seed(0) # 시드 재설정"
   ]
  },
  {
   "cell_type": "code",
   "execution_count": 18,
   "metadata": {},
   "outputs": [
    {
     "data": {
      "text/plain": [
       "array([0.5488135 , 0.71518937, 0.60276338, 0.54488318, 0.4236548 ])"
      ]
     },
     "execution_count": 18,
     "metadata": {},
     "output_type": "execute_result"
    }
   ],
   "source": [
    "np.random.rand(5)"
   ]
  },
  {
   "cell_type": "code",
   "execution_count": 19,
   "metadata": {},
   "outputs": [
    {
     "data": {
      "text/plain": [
       "array([0.64589411, 0.43758721, 0.891773  , 0.96366276, 0.38344152,\n",
       "       0.79172504, 0.52889492, 0.56804456, 0.92559664, 0.07103606])"
      ]
     },
     "execution_count": 19,
     "metadata": {},
     "output_type": "execute_result"
    }
   ],
   "source": [
    "np.random.rand(10)"
   ]
  },
  {
   "cell_type": "code",
   "execution_count": 20,
   "metadata": {},
   "outputs": [
    {
     "data": {
      "text/plain": [
       "array([0.0871293 , 0.0202184 , 0.83261985, 0.77815675, 0.87001215,\n",
       "       0.97861834, 0.79915856, 0.46147936, 0.78052918, 0.11827443])"
      ]
     },
     "execution_count": 20,
     "metadata": {},
     "output_type": "execute_result"
    }
   ],
   "source": [
    "np.random.rand(10)"
   ]
  },
  {
   "cell_type": "markdown",
   "metadata": {},
   "source": [
    "#### choice 함수\n",
    " - 주어진 벡터 ndarray로부터 랜덤하게 샘플링\n",
    " - 정수가 주어진 경우에는 np.arange(해당숫자)로 간주\n",
    " - replace=False 이면 중복을 허용하지 않음"
   ]
  },
  {
   "cell_type": "code",
   "execution_count": 14,
   "metadata": {},
   "outputs": [
    {
     "data": {
      "text/plain": [
       "array([[44, 47, 64, 67],\n",
       "       [67,  9, 83, 21],\n",
       "       [36, 87, 70, 88]])"
      ]
     },
     "execution_count": 14,
     "metadata": {},
     "output_type": "execute_result"
    }
   ],
   "source": [
    "# 0~99 로 구성된 1차원 벡터로부터 3행 4열의 행렬에 랜덤하게 샘플링하여 가져오라\n",
    "np.random.choice(100, size=(3, 4))"
   ]
  },
  {
   "cell_type": "code",
   "execution_count": 16,
   "metadata": {},
   "outputs": [
    {
     "data": {
      "text/plain": [
       "array([[1. , 2. ],\n",
       "       [4.9, 2. ]])"
      ]
     },
     "execution_count": 16,
     "metadata": {},
     "output_type": "execute_result"
    }
   ],
   "source": [
    "x = np.array([1, 2, 3, 1.5, 2.6, 4.9])\n",
    "np.random.choice(x, size=(2,2))  # 주어진 x에서 2행 2열로 랜덤하게 샘플링하여 가져옴, 중복을 허용함"
   ]
  },
  {
   "cell_type": "code",
   "execution_count": 17,
   "metadata": {},
   "outputs": [
    {
     "data": {
      "text/plain": [
       "array([[3. , 1.5],\n",
       "       [2.6, 2. ]])"
      ]
     },
     "execution_count": 17,
     "metadata": {},
     "output_type": "execute_result"
    }
   ],
   "source": [
    "x = np.array([1, 2, 3, 1.5, 2.6, 4.9])\n",
    "np.random.choice(x, size=(2,2), replace=False)  # 주어진 x에서 2행 2열로 랜덤하게 샘플링하여 가져옴, 중복을 허용하지 않음"
   ]
  },
  {
   "cell_type": "markdown",
   "metadata": {},
   "source": [
    "#### 확률분포 함수\n",
    " - uniform 함수(균등분포에서 램덤하게 샘플링)\n",
    " - normal 함수(정규분포에서 램덤하게 샘플링)"
   ]
  },
  {
   "cell_type": "code",
   "execution_count": 18,
   "metadata": {},
   "outputs": [
    {
     "data": {
      "text/plain": [
       "array([[1.73648308, 2.91431032, 1.28070156, 2.74017452, 1.94721609],\n",
       "       [2.6018215 , 2.04095496, 2.35775906, 2.44126531, 2.16403958],\n",
       "       [2.07474646, 2.51723125, 1.21181521, 1.94720084, 1.37266469],\n",
       "       [2.47383635, 1.43310071, 1.27043635, 1.64828202, 1.29934973]])"
      ]
     },
     "execution_count": 18,
     "metadata": {},
     "output_type": "execute_result"
    }
   ],
   "source": [
    "# uniform 분포로 1,0 ~ 3.0 까지 랜덤하게 4행 5열로 생성\n",
    "np.random.uniform(1.0, 3.0, size=(4, 5))"
   ]
  },
  {
   "cell_type": "code",
   "execution_count": 25,
   "metadata": {},
   "outputs": [
    {
     "data": {
      "text/plain": [
       "array([[ 2.29977152, -0.47113526,  1.26271548, -1.17051545],\n",
       "       [ 1.0657892 , -0.69993739,  0.14407911,  0.3985421 ],\n",
       "       [ 0.02686925,  1.05583713, -0.07318342, -0.66572066]])"
      ]
     },
     "execution_count": 25,
     "metadata": {},
     "output_type": "execute_result"
    }
   ],
   "source": [
    "# normal(정규) 분포로 랜덤하게 3행 4열로 생성\n",
    "np.random.normal(size=(3, 4))"
   ]
  },
  {
   "cell_type": "code",
   "execution_count": 26,
   "metadata": {},
   "outputs": [
    {
     "data": {
      "text/plain": [
       "array([[-0.04411241, -0.36326702, -0.01234481,  0.04212149],\n",
       "       [ 1.95929589, -0.1984257 ,  0.33053441, -1.43582841],\n",
       "       [ 0.02752832,  1.12060466, -0.22403878, -0.42018339]])"
      ]
     },
     "execution_count": 26,
     "metadata": {},
     "output_type": "execute_result"
    }
   ],
   "source": [
    "np.random.randn(3, 4)  # 위 함수와 동일하게 작동됨"
   ]
  }
 ],
 "metadata": {
  "kernelspec": {
   "display_name": "cv_env",
   "language": "python",
   "name": "python3"
  },
  "language_info": {
   "codemirror_mode": {
    "name": "ipython",
    "version": 3
   },
   "file_extension": ".py",
   "mimetype": "text/x-python",
   "name": "python",
   "nbconvert_exporter": "python",
   "pygments_lexer": "ipython3",
   "version": "3.10.13"
  }
 },
 "nbformat": 4,
 "nbformat_minor": 2
}
