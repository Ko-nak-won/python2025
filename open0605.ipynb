{
 "cells": [
  {
   "cell_type": "code",
   "execution_count": 11,
   "id": "1ba458c5",
   "metadata": {},
   "outputs": [
    {
     "name": "stdout",
     "output_type": "stream",
     "text": [
      "[ 4  5  0  1  2  3  6  7  8  9 10 11]\n",
      "<class 'numpy.ndarray'>\n",
      "(12,)\n",
      "[ 0  1  2  3  4  5  6  7  8  9 10 11]\n",
      "[-4.3 -2.3 -1.2  8.   9.  10.1 12.  99. ]\n",
      "['five' 'four' 'one' 'seven' 'six' 'three' 'two']\n"
     ]
    }
   ],
   "source": [
    "import numpy as np\n",
    "\n",
    "a = np.array([4,5,0,1,2,3,6,7,8,9,10,11])\n",
    "print(a)\n",
    "print(type(a))\n",
    "print(a.shape)\n",
    "a.sort()\n",
    "print(a)\n",
    "\n",
    "b = np.array([-4.3,-2.3,12,9,8,99,10.1,-1.2])\n",
    "b.sort()\n",
    "print(b)\n",
    "\n",
    "c = np.array(['one', 'two', 'three', 'four', 'five', 'six', 'seven'])\n",
    "c.sort()\n",
    "print(c)"
   ]
  },
  {
   "cell_type": "code",
   "execution_count": null,
   "id": "8bbfab48",
   "metadata": {},
   "outputs": [],
   "source": [
    "import cv2 as cv\n",
    "import sys\n",
    "\n",
    "img = cv.imread('./img/soccer.jpg', cv.IMREAD_COLOR)\n",
    "\n",
    "if img is None:\n",
    "    sys.exit('파일을 찾을 수 없습니다.')\n",
    "\n",
    "cv.imshow('Image Display', img)\n",
    "\n",
    "cv.waitKey()\n",
    "cv.destroyAllWindows()"
   ]
  },
  {
   "cell_type": "code",
   "execution_count": 5,
   "id": "9015ff31",
   "metadata": {},
   "outputs": [],
   "source": [
    "import sys\n",
    "import cv2 as cv\n",
    "\n",
    "img = cv.imread('./img/soccer.jpg')\n",
    "\n",
    "if img is None:\n",
    "    sys.exit('파일을 찾을 수 없습니다.')\n",
    "    \n",
    "harf = cv.resize(img , dsize=(0, 0), fx=0.5, fy=0.5)\n",
    "harf_repeat = cv.resize(harf, dsize=(0, 0), fx=2, fy=2)\n",
    "gray = cv.cvtColor(img, cv.COLOR_BGR2GRAY)\n",
    "gray_small = cv.resize(gray, dsize=(0, 0), fx=5, fy=5)\n",
    "\n",
    "\n",
    "cv.imwrite('./img/soccer_gray.jpg', gray)\n",
    "cv.imwrite('./img/soccer_gray_small.jpg', gray_small)\n",
    "\n",
    "cv.imshow('Color Image', img)\n",
    "cv.imshow('Gray Image', gray)\n",
    "cv.imshow('Gray Small Image', gray_small)\n",
    "cv.imshow('Half Size Image', harf)\n",
    "cv.imshow('Half Size Repeat Image', harf_repeat)\n",
    "\n",
    "cv.waitKey()\n",
    "cv.destroyAllWindows()"
   ]
  },
  {
   "cell_type": "code",
   "execution_count": 4,
   "id": "42735104",
   "metadata": {},
   "outputs": [
    {
     "name": "stdout",
     "output_type": "stream",
     "text": [
      "img: <class 'numpy.ndarray'> (342, 548, 3)\n"
     ]
    }
   ],
   "source": [
    "import cv2 as cv\n",
    "import numpy as np\n",
    "import urllib.request\n",
    "\n",
    "url = 'https://raw.githubusercontent.com/opencv/opencv/master/samples/data/messi5.jpg'\n",
    "url_response = urllib.request.urlopen(url)\n",
    "img_array = np.array(bytearray(url_response.read()), dtype=np.uint8)\n",
    "\n",
    "img = cv.imdecode(img_array, cv.IMREAD_UNCHANGED)\n",
    "print('img:', type(img), img.shape)\n",
    "\n",
    "cv.imshow('URL image', img)\n",
    "cv.waitKey(0)\n",
    "cv.destroyAllWindows()"
   ]
  },
  {
   "cell_type": "code",
   "execution_count": 3,
   "id": "f103fcf7",
   "metadata": {},
   "outputs": [],
   "source": [
    "import cv2 as cv\n",
    "import sys\n",
    "\n",
    "cap = cv.VideoCapture(0,cv.CAP_DSHOW)\n",
    "\n",
    "if not cap.isOpened():\n",
    "    sys.exit('카메라를 찾을 수 없습니다.')\n",
    "    \n",
    "while True:\n",
    "    ret, frame = cap.read()\n",
    "    \n",
    "    if not ret:\n",
    "        print('프레임을 읽을 수 없습니다.')\n",
    "        break\n",
    "    \n",
    "    cv.imshow('Camera Display', frame)\n",
    "    \n",
    "    key = cv.waitKey(1)\n",
    "    if key == ord('q'):\n",
    "        break\n",
    "cap.release()\n",
    "cv.destroyAllWindows()"
   ]
  },
  {
   "cell_type": "code",
   "execution_count": null,
   "id": "4dd3cae7",
   "metadata": {},
   "outputs": [
    {
     "ename": "error",
     "evalue": "OpenCV(4.11.0) D:\\a\\opencv-python\\opencv-python\\opencv\\modules\\highgui\\src\\window.cpp:973: error: (-215:Assertion failed) size.width>0 && size.height>0 in function 'cv::imshow'\n",
     "output_type": "error",
     "traceback": [
      "\u001b[1;31m---------------------------------------------------------------------------\u001b[0m",
      "\u001b[1;31merror\u001b[0m                                     Traceback (most recent call last)",
      "Cell \u001b[1;32mIn[10], line 8\u001b[0m\n\u001b[0;32m      6\u001b[0m \u001b[38;5;28;01mwhile\u001b[39;00m \u001b[38;5;28;01mTrue\u001b[39;00m:\n\u001b[0;32m      7\u001b[0m     ret, frame \u001b[38;5;241m=\u001b[39m cap\u001b[38;5;241m.\u001b[39mread()\n\u001b[1;32m----> 8\u001b[0m     \u001b[43mcv\u001b[49m\u001b[38;5;241;43m.\u001b[39;49m\u001b[43mimshow\u001b[49m\u001b[43m(\u001b[49m\u001b[38;5;124;43m'\u001b[39;49m\u001b[38;5;124;43mCamera Display\u001b[39;49m\u001b[38;5;124;43m'\u001b[39;49m\u001b[43m,\u001b[49m\u001b[43m \u001b[49m\u001b[43mframe\u001b[49m\u001b[43m)\u001b[49m\n\u001b[0;32m     10\u001b[0m     \u001b[38;5;28;01mif\u001b[39;00m cv\u001b[38;5;241m.\u001b[39mwaitKey(\u001b[38;5;241m1\u001b[39m) \u001b[38;5;241m&\u001b[39m \u001b[38;5;241m0xFF\u001b[39m \u001b[38;5;241m==\u001b[39m \u001b[38;5;28mord\u001b[39m(\u001b[38;5;124m'\u001b[39m\u001b[38;5;124mq\u001b[39m\u001b[38;5;124m'\u001b[39m):\n\u001b[0;32m     11\u001b[0m         \u001b[38;5;28;01mbreak\u001b[39;00m\n",
      "\u001b[1;31merror\u001b[0m: OpenCV(4.11.0) D:\\a\\opencv-python\\opencv-python\\opencv\\modules\\highgui\\src\\window.cpp:973: error: (-215:Assertion failed) size.width>0 && size.height>0 in function 'cv::imshow'\n"
     ]
    },
    {
     "ename": "",
     "evalue": "",
     "output_type": "error",
     "traceback": [
      "\u001b[1;31m현재 셀 또는 이전 셀에서 코드를 실행하는 동안 Kernel이 충돌했습니다. \n",
      "\u001b[1;31m셀의 코드를 검토하여 가능한 오류 원인을 식별하세요. \n",
      "\u001b[1;31m자세한 내용을 보려면 <a href='https://aka.ms/vscodeJupyterKernelCrash'>여기</a>를 클릭하세요. \n",
      "\u001b[1;31m자세한 내용은 Jupyter <a href='command:jupyter.viewOutput'>로그</a>를 참조하세요."
     ]
    }
   ],
   "source": [
    "import cv2 as cv\n",
    "import numpy as np\n",
    "\n",
    "cap = cv.VideoCapture(0,cv.CAP_DSHOW)\n",
    "\n",
    "while True:\n",
    "    ret, frame = cap.read()\n",
    "    cv.imshow('Camera Display', frame)\n",
    "    \n",
    "    if cv.waitKey(1) & 0xFF == ord('q'):\n",
    "        break\n",
    "    cap.release()\n",
    "cv.destroyAllWindows()"
   ]
  },
  {
   "cell_type": "code",
   "execution_count": null,
   "id": "06d8610c",
   "metadata": {},
   "outputs": [],
   "source": [
    "import cv2 as cv\n",
    "import numpy as np\n",
    "import sys\n",
    "\n",
    "cap = cv.VideoCapture(0, cv.CAP_DSHOW)\n",
    "if not cap.isOpened():\n",
    "    sys.exit('카메라를 찾을 수 없습니다.')\n",
    "    \n",
    "frames = []\n",
    "while True:\n",
    "    ret, frame = cap.read()\n",
    "    \n",
    "    if not ret:\n",
    "        print('프레임을 읽을 수 없습니다.')\n",
    "        break\n",
    "    \n",
    "    cv.imshow('Camera Display', frame)\n",
    "    \n",
    "    key = cv.waitKey(1)\n",
    "    if key == ord('c'):\n",
    "        frames.append(frame)\n",
    "    elif key == ord('q'):\n",
    "        break\n",
    "    \n",
    "cap.release()\n",
    "cv.destroyAllWindows()\n",
    "\n",
    "if len(frames) > 0:\n",
    "    imgs = frames[0]\n",
    "    for i in range(1, min(3, len(frames))):\n",
    "        imgs = np.vstack((imgs, frames[i]))\n",
    "        \n",
    "    cv.imshow('Captured Frames', imgs)\n",
    "    cv.waitKey(0)\n",
    "    cv.destroyAllWindows()"
   ]
  }
 ],
 "metadata": {
  "kernelspec": {
   "display_name": "qwer",
   "language": "python",
   "name": "python3"
  },
  "language_info": {
   "codemirror_mode": {
    "name": "ipython",
    "version": 3
   },
   "file_extension": ".py",
   "mimetype": "text/x-python",
   "name": "python",
   "nbconvert_exporter": "python",
   "pygments_lexer": "ipython3",
   "version": "3.8.10"
  }
 },
 "nbformat": 4,
 "nbformat_minor": 5
}
